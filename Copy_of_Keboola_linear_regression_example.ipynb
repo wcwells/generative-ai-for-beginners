{
  "nbformat": 4,
  "nbformat_minor": 0,
  "metadata": {
    "colab": {
      "provenance": [],
      "include_colab_link": true
    },
    "kernelspec": {
      "name": "python3",
      "display_name": "Python 3"
    }
  },
  "cells": [
    {
      "cell_type": "markdown",
      "metadata": {
        "id": "view-in-github",
        "colab_type": "text"
      },
      "source": [
        "<a href=\"https://colab.research.google.com/github/wcwells/generative-ai-for-beginners/blob/main/Copy_of_Keboola_linear_regression_example.ipynb\" target=\"_parent\"><img src=\"https://colab.research.google.com/assets/colab-badge.svg\" alt=\"Open In Colab\"/></a>"
      ]
    },
    {
      "cell_type": "markdown",
      "metadata": {
        "id": "ajHlHFqEecO7"
      },
      "source": [
        "# Get This Notebook\n",
        "\n",
        "Clik on `file` (upper left corner) and choose from the dropdown the option, which you prefer:\n",
        "- `Save a copy in Drive` to add the notebook to your Google Drive (where you can access it via Google Colab)\n",
        "- `Download .ipynb` to download the Notebook as a Jupyter Notebook, which you can run from your local machine"
      ]
    },
    {
      "cell_type": "markdown",
      "metadata": {
        "id": "V0cl9EKl3f-3"
      },
      "source": [
        "# Before we start: Setup\n",
        "\n",
        "Before we start coding out the solution, make sure you have all the prerequisite Python packages. Run the following code to install the versions of the packages you will be needing for this Notebook."
      ]
    },
    {
      "cell_type": "code",
      "metadata": {
        "id": "d3cAbyOQ0y4i",
        "colab": {
          "base_uri": "https://localhost:8080/",
          "height": 238
        },
        "outputId": "f71a38e2-50f4-49bd-8e47-b051ea98e3b6"
      },
      "source": [
        "# Install necessary pip packages in the current Jupyter kernel\n",
        "import sys\n",
        "!{sys.executable} -m pip install pandas==1.0.5 matplotlib==3.2.2 seaborn==0.10.1 numpy==1.18.5 scikit-learn==0.22.2"
      ],
      "execution_count": null,
      "outputs": [
        {
          "output_type": "stream",
          "text": [
            "Requirement already satisfied: pandas==1.0.5 in /usr/local/lib/python3.6/dist-packages (1.0.5)\n",
            "Requirement already satisfied: matplotlib==3.2.2 in /usr/local/lib/python3.6/dist-packages (3.2.2)\n",
            "Requirement already satisfied: seaborn==0.10.1 in /usr/local/lib/python3.6/dist-packages (0.10.1)\n",
            "Requirement already satisfied: numpy==1.18.5 in /usr/local/lib/python3.6/dist-packages (1.18.5)\n",
            "Requirement already satisfied: scikit-learn==0.22.2 in /usr/local/lib/python3.6/dist-packages (0.22.2)\n",
            "Requirement already satisfied: pytz>=2017.2 in /usr/local/lib/python3.6/dist-packages (from pandas==1.0.5) (2018.9)\n",
            "Requirement already satisfied: python-dateutil>=2.6.1 in /usr/local/lib/python3.6/dist-packages (from pandas==1.0.5) (2.8.1)\n",
            "Requirement already satisfied: pyparsing!=2.0.4,!=2.1.2,!=2.1.6,>=2.0.1 in /usr/local/lib/python3.6/dist-packages (from matplotlib==3.2.2) (2.4.7)\n",
            "Requirement already satisfied: cycler>=0.10 in /usr/local/lib/python3.6/dist-packages (from matplotlib==3.2.2) (0.10.0)\n",
            "Requirement already satisfied: kiwisolver>=1.0.1 in /usr/local/lib/python3.6/dist-packages (from matplotlib==3.2.2) (1.2.0)\n",
            "Requirement already satisfied: scipy>=1.0.1 in /usr/local/lib/python3.6/dist-packages (from seaborn==0.10.1) (1.4.1)\n",
            "Requirement already satisfied: joblib>=0.11 in /usr/local/lib/python3.6/dist-packages (from scikit-learn==0.22.2) (0.16.0)\n",
            "Requirement already satisfied: six>=1.5 in /usr/local/lib/python3.6/dist-packages (from python-dateutil>=2.6.1->pandas==1.0.5) (1.15.0)\n"
          ],
          "name": "stdout"
        }
      ]
    },
    {
      "cell_type": "markdown",
      "metadata": {
        "id": "Dp25UC3Z3MK4"
      },
      "source": [
        "# Problem Description: Predict price of real estate\n",
        "\n",
        "You are given a dataset with with historical information about real estate valuation. Your job is to build a linear regression model, which can predict the housing valuation based on the estate's attributes.\n",
        "\n",
        "The dataset can be [found here](https://archive.ics.uci.edu/ml/datasets/Real+estate+valuation+data+set).\n",
        "</br>\n",
        "</br>\n",
        "\n",
        "### Attribute Information\n",
        "\n",
        "The inputs are as follows</br>\n",
        "X1=the transaction date (for example, 2013.250=2013 March, 2013.500=2013 June, etc.)</br>\n",
        "X2=the house age (unit: year)</br>\n",
        "X3=the distance to the nearest MRT station (unit: meter)</br>\n",
        "X4=the number of convenience stores in the living circle on foot (integer)</br>\n",
        "X5=the geographic coordinate, latitude. (unit: degree)</br>\n",
        "X6=the geographic coordinate, longitude. (unit: degree)</br>\n",
        "</br>\n",
        "The output is as follow:</br>\n",
        "Y= house price of unit area (10000 New Taiwan Dollar/Ping, where Ping is a local unit, 1 Ping = 3.3 meter squared)"
      ]
    },
    {
      "cell_type": "markdown",
      "metadata": {
        "id": "Xi3Aa6Ebgz4n"
      },
      "source": [
        "# STEP 1: Load & inspect data"
      ]
    },
    {
      "cell_type": "code",
      "metadata": {
        "id": "m59Mfufv1duA",
        "colab": {
          "base_uri": "https://localhost:8080/",
          "height": 221
        },
        "outputId": "66217466-e411-4af4-8dc6-f2d37ef02e6b"
      },
      "source": [
        "import pandas as pd\n",
        "\n",
        "dataset_url = 'https://archive.ics.uci.edu/ml/machine-learning-databases/00477/Real%20estate%20valuation%20data%20set.xlsx'\n",
        "df = pd.read_excel(dataset_url)\n",
        "\n",
        "# check the first 5 rows to get a feeling of the data\n",
        "df.head()"
      ],
      "execution_count": null,
      "outputs": [
        {
          "output_type": "execute_result",
          "data": {
            "text/html": [
              "<div>\n",
              "<style scoped>\n",
              "    .dataframe tbody tr th:only-of-type {\n",
              "        vertical-align: middle;\n",
              "    }\n",
              "\n",
              "    .dataframe tbody tr th {\n",
              "        vertical-align: top;\n",
              "    }\n",
              "\n",
              "    .dataframe thead th {\n",
              "        text-align: right;\n",
              "    }\n",
              "</style>\n",
              "<table border=\"1\" class=\"dataframe\">\n",
              "  <thead>\n",
              "    <tr style=\"text-align: right;\">\n",
              "      <th></th>\n",
              "      <th>No</th>\n",
              "      <th>X1 transaction date</th>\n",
              "      <th>X2 house age</th>\n",
              "      <th>X3 distance to the nearest MRT station</th>\n",
              "      <th>X4 number of convenience stores</th>\n",
              "      <th>X5 latitude</th>\n",
              "      <th>X6 longitude</th>\n",
              "      <th>Y house price of unit area</th>\n",
              "    </tr>\n",
              "  </thead>\n",
              "  <tbody>\n",
              "    <tr>\n",
              "      <th>0</th>\n",
              "      <td>1</td>\n",
              "      <td>2012.916667</td>\n",
              "      <td>32.0</td>\n",
              "      <td>84.87882</td>\n",
              "      <td>10</td>\n",
              "      <td>24.98298</td>\n",
              "      <td>121.54024</td>\n",
              "      <td>37.9</td>\n",
              "    </tr>\n",
              "    <tr>\n",
              "      <th>1</th>\n",
              "      <td>2</td>\n",
              "      <td>2012.916667</td>\n",
              "      <td>19.5</td>\n",
              "      <td>306.59470</td>\n",
              "      <td>9</td>\n",
              "      <td>24.98034</td>\n",
              "      <td>121.53951</td>\n",
              "      <td>42.2</td>\n",
              "    </tr>\n",
              "    <tr>\n",
              "      <th>2</th>\n",
              "      <td>3</td>\n",
              "      <td>2013.583333</td>\n",
              "      <td>13.3</td>\n",
              "      <td>561.98450</td>\n",
              "      <td>5</td>\n",
              "      <td>24.98746</td>\n",
              "      <td>121.54391</td>\n",
              "      <td>47.3</td>\n",
              "    </tr>\n",
              "    <tr>\n",
              "      <th>3</th>\n",
              "      <td>4</td>\n",
              "      <td>2013.500000</td>\n",
              "      <td>13.3</td>\n",
              "      <td>561.98450</td>\n",
              "      <td>5</td>\n",
              "      <td>24.98746</td>\n",
              "      <td>121.54391</td>\n",
              "      <td>54.8</td>\n",
              "    </tr>\n",
              "    <tr>\n",
              "      <th>4</th>\n",
              "      <td>5</td>\n",
              "      <td>2012.833333</td>\n",
              "      <td>5.0</td>\n",
              "      <td>390.56840</td>\n",
              "      <td>5</td>\n",
              "      <td>24.97937</td>\n",
              "      <td>121.54245</td>\n",
              "      <td>43.1</td>\n",
              "    </tr>\n",
              "  </tbody>\n",
              "</table>\n",
              "</div>"
            ],
            "text/plain": [
              "   No  X1 transaction date  ...  X6 longitude  Y house price of unit area\n",
              "0   1          2012.916667  ...     121.54024                        37.9\n",
              "1   2          2012.916667  ...     121.53951                        42.2\n",
              "2   3          2013.583333  ...     121.54391                        47.3\n",
              "3   4          2013.500000  ...     121.54391                        54.8\n",
              "4   5          2012.833333  ...     121.54245                        43.1\n",
              "\n",
              "[5 rows x 8 columns]"
            ]
          },
          "metadata": {
            "tags": []
          },
          "execution_count": 1
        }
      ]
    },
    {
      "cell_type": "markdown",
      "metadata": {
        "id": "BNwPfqAL5lvB"
      },
      "source": [
        "# STEP 2: Exploratory Data Analysis (EDA) & Data Cleaning\n",
        "Inspect and visualize the data to notice trends.\n",
        "\n",
        "Clean the data according to [best practices](https://www.keboola.com/blog/the-ultimate-guide-to-data-cleaning)."
      ]
    },
    {
      "cell_type": "code",
      "metadata": {
        "id": "L9HVvNzTg9y7",
        "colab": {
          "base_uri": "https://localhost:8080/",
          "height": 331
        },
        "outputId": "ea1c04c9-8b72-4306-eb5a-129a3af4d747"
      },
      "source": [
        "# get descriptive statistics for each column/feature\n",
        "df.describe(include='all')"
      ],
      "execution_count": null,
      "outputs": [
        {
          "output_type": "execute_result",
          "data": {
            "text/html": [
              "<div>\n",
              "<style scoped>\n",
              "    .dataframe tbody tr th:only-of-type {\n",
              "        vertical-align: middle;\n",
              "    }\n",
              "\n",
              "    .dataframe tbody tr th {\n",
              "        vertical-align: top;\n",
              "    }\n",
              "\n",
              "    .dataframe thead th {\n",
              "        text-align: right;\n",
              "    }\n",
              "</style>\n",
              "<table border=\"1\" class=\"dataframe\">\n",
              "  <thead>\n",
              "    <tr style=\"text-align: right;\">\n",
              "      <th></th>\n",
              "      <th>No</th>\n",
              "      <th>X1 transaction date</th>\n",
              "      <th>X2 house age</th>\n",
              "      <th>X3 distance to the nearest MRT station</th>\n",
              "      <th>X4 number of convenience stores</th>\n",
              "      <th>X5 latitude</th>\n",
              "      <th>X6 longitude</th>\n",
              "      <th>Y house price of unit area</th>\n",
              "    </tr>\n",
              "  </thead>\n",
              "  <tbody>\n",
              "    <tr>\n",
              "      <th>count</th>\n",
              "      <td>414.000000</td>\n",
              "      <td>414.000000</td>\n",
              "      <td>414.000000</td>\n",
              "      <td>414.000000</td>\n",
              "      <td>414.000000</td>\n",
              "      <td>414.000000</td>\n",
              "      <td>414.000000</td>\n",
              "      <td>414.000000</td>\n",
              "    </tr>\n",
              "    <tr>\n",
              "      <th>mean</th>\n",
              "      <td>207.500000</td>\n",
              "      <td>2013.148953</td>\n",
              "      <td>17.712560</td>\n",
              "      <td>1083.885689</td>\n",
              "      <td>4.094203</td>\n",
              "      <td>24.969030</td>\n",
              "      <td>121.533361</td>\n",
              "      <td>37.980193</td>\n",
              "    </tr>\n",
              "    <tr>\n",
              "      <th>std</th>\n",
              "      <td>119.655756</td>\n",
              "      <td>0.281995</td>\n",
              "      <td>11.392485</td>\n",
              "      <td>1262.109595</td>\n",
              "      <td>2.945562</td>\n",
              "      <td>0.012410</td>\n",
              "      <td>0.015347</td>\n",
              "      <td>13.606488</td>\n",
              "    </tr>\n",
              "    <tr>\n",
              "      <th>min</th>\n",
              "      <td>1.000000</td>\n",
              "      <td>2012.666667</td>\n",
              "      <td>0.000000</td>\n",
              "      <td>23.382840</td>\n",
              "      <td>0.000000</td>\n",
              "      <td>24.932070</td>\n",
              "      <td>121.473530</td>\n",
              "      <td>7.600000</td>\n",
              "    </tr>\n",
              "    <tr>\n",
              "      <th>25%</th>\n",
              "      <td>104.250000</td>\n",
              "      <td>2012.916667</td>\n",
              "      <td>9.025000</td>\n",
              "      <td>289.324800</td>\n",
              "      <td>1.000000</td>\n",
              "      <td>24.963000</td>\n",
              "      <td>121.528085</td>\n",
              "      <td>27.700000</td>\n",
              "    </tr>\n",
              "    <tr>\n",
              "      <th>50%</th>\n",
              "      <td>207.500000</td>\n",
              "      <td>2013.166667</td>\n",
              "      <td>16.100000</td>\n",
              "      <td>492.231300</td>\n",
              "      <td>4.000000</td>\n",
              "      <td>24.971100</td>\n",
              "      <td>121.538630</td>\n",
              "      <td>38.450000</td>\n",
              "    </tr>\n",
              "    <tr>\n",
              "      <th>75%</th>\n",
              "      <td>310.750000</td>\n",
              "      <td>2013.416667</td>\n",
              "      <td>28.150000</td>\n",
              "      <td>1454.279000</td>\n",
              "      <td>6.000000</td>\n",
              "      <td>24.977455</td>\n",
              "      <td>121.543305</td>\n",
              "      <td>46.600000</td>\n",
              "    </tr>\n",
              "    <tr>\n",
              "      <th>max</th>\n",
              "      <td>414.000000</td>\n",
              "      <td>2013.583333</td>\n",
              "      <td>43.800000</td>\n",
              "      <td>6488.021000</td>\n",
              "      <td>10.000000</td>\n",
              "      <td>25.014590</td>\n",
              "      <td>121.566270</td>\n",
              "      <td>117.500000</td>\n",
              "    </tr>\n",
              "  </tbody>\n",
              "</table>\n",
              "</div>"
            ],
            "text/plain": [
              "               No  ...  Y house price of unit area\n",
              "count  414.000000  ...                  414.000000\n",
              "mean   207.500000  ...                   37.980193\n",
              "std    119.655756  ...                   13.606488\n",
              "min      1.000000  ...                    7.600000\n",
              "25%    104.250000  ...                   27.700000\n",
              "50%    207.500000  ...                   38.450000\n",
              "75%    310.750000  ...                   46.600000\n",
              "max    414.000000  ...                  117.500000\n",
              "\n",
              "[8 rows x 8 columns]"
            ]
          },
          "metadata": {
            "tags": []
          },
          "execution_count": 3
        }
      ]
    },
    {
      "cell_type": "markdown",
      "metadata": {
        "id": "qBADiDED5SMO"
      },
      "source": [
        "The information above is useful to understand the top down statistics of data (e.g. mean, median, standard deviation), but this works even better, if we visualize the data.\n",
        "\n",
        "Before we visualize it, though, let us clean it a bit.\n",
        "\n",
        "First, we remove features, which will not be used in the analysis."
      ]
    },
    {
      "cell_type": "code",
      "metadata": {
        "id": "wH-yk1hyh2e3",
        "colab": {
          "base_uri": "https://localhost:8080/",
          "height": 204
        },
        "outputId": "b7a59143-bae5-4808-eb21-36c535aecea3"
      },
      "source": [
        "# remove columns which are unnecessary for linear regression\n",
        "list_of_columns_to_drop = ['No',\n",
        "                           'X1 transaction date',\n",
        "                           'X5 latitude',\n",
        "                           'X6 longitude']\n",
        "\n",
        "df.drop(list_of_columns_to_drop, axis=1, inplace=True)\n",
        "\n",
        "# check if columns dropped properly\n",
        "df.head()"
      ],
      "execution_count": null,
      "outputs": [
        {
          "output_type": "execute_result",
          "data": {
            "text/html": [
              "<div>\n",
              "<style scoped>\n",
              "    .dataframe tbody tr th:only-of-type {\n",
              "        vertical-align: middle;\n",
              "    }\n",
              "\n",
              "    .dataframe tbody tr th {\n",
              "        vertical-align: top;\n",
              "    }\n",
              "\n",
              "    .dataframe thead th {\n",
              "        text-align: right;\n",
              "    }\n",
              "</style>\n",
              "<table border=\"1\" class=\"dataframe\">\n",
              "  <thead>\n",
              "    <tr style=\"text-align: right;\">\n",
              "      <th></th>\n",
              "      <th>X2 house age</th>\n",
              "      <th>X3 distance to the nearest MRT station</th>\n",
              "      <th>X4 number of convenience stores</th>\n",
              "      <th>Y house price of unit area</th>\n",
              "    </tr>\n",
              "  </thead>\n",
              "  <tbody>\n",
              "    <tr>\n",
              "      <th>0</th>\n",
              "      <td>32.0</td>\n",
              "      <td>84.87882</td>\n",
              "      <td>10</td>\n",
              "      <td>37.9</td>\n",
              "    </tr>\n",
              "    <tr>\n",
              "      <th>1</th>\n",
              "      <td>19.5</td>\n",
              "      <td>306.59470</td>\n",
              "      <td>9</td>\n",
              "      <td>42.2</td>\n",
              "    </tr>\n",
              "    <tr>\n",
              "      <th>2</th>\n",
              "      <td>13.3</td>\n",
              "      <td>561.98450</td>\n",
              "      <td>5</td>\n",
              "      <td>47.3</td>\n",
              "    </tr>\n",
              "    <tr>\n",
              "      <th>3</th>\n",
              "      <td>13.3</td>\n",
              "      <td>561.98450</td>\n",
              "      <td>5</td>\n",
              "      <td>54.8</td>\n",
              "    </tr>\n",
              "    <tr>\n",
              "      <th>4</th>\n",
              "      <td>5.0</td>\n",
              "      <td>390.56840</td>\n",
              "      <td>5</td>\n",
              "      <td>43.1</td>\n",
              "    </tr>\n",
              "  </tbody>\n",
              "</table>\n",
              "</div>"
            ],
            "text/plain": [
              "   X2 house age  ...  Y house price of unit area\n",
              "0          32.0  ...                        37.9\n",
              "1          19.5  ...                        42.2\n",
              "2          13.3  ...                        47.3\n",
              "3          13.3  ...                        54.8\n",
              "4           5.0  ...                        43.1\n",
              "\n",
              "[5 rows x 4 columns]"
            ]
          },
          "metadata": {
            "tags": []
          },
          "execution_count": 4
        }
      ]
    },
    {
      "cell_type": "markdown",
      "metadata": {
        "id": "HN1IjmQbh8-0"
      },
      "source": [
        "Next, check if there are any **missing values** within the dataframe."
      ]
    },
    {
      "cell_type": "code",
      "metadata": {
        "id": "UfxGA19liBN4",
        "colab": {
          "base_uri": "https://localhost:8080/",
          "height": 102
        },
        "outputId": "10174789-d141-46b1-f8eb-c118dc19231e"
      },
      "source": [
        "# count the number of rows with missing values per column\n",
        "df.isna().sum()"
      ],
      "execution_count": null,
      "outputs": [
        {
          "output_type": "execute_result",
          "data": {
            "text/plain": [
              "X2 house age                              0\n",
              "X3 distance to the nearest MRT station    0\n",
              "X4 number of convenience stores           0\n",
              "Y house price of unit area                0\n",
              "dtype: int64"
            ]
          },
          "metadata": {
            "tags": []
          },
          "execution_count": 5
        }
      ]
    },
    {
      "cell_type": "markdown",
      "metadata": {
        "id": "e9ktugBtiZP1"
      },
      "source": [
        "All good! No information is missing, so we do not have to remove anything at this moment.\n",
        "\n",
        "For the next step, we check data distribution, and whether there are any **outliers**. We do it by visualizing the data with box plots."
      ]
    },
    {
      "cell_type": "code",
      "metadata": {
        "id": "wOQ_zNPF1eIk",
        "colab": {
          "base_uri": "https://localhost:8080/",
          "height": 594
        },
        "outputId": "1deacd5a-8eae-4241-a2df-9200f1a11ddb"
      },
      "source": [
        "import seaborn as sns\n",
        "import matplotlib.pyplot as plt\n",
        "\n",
        "fig, axs = plt.subplots(ncols=2, nrows=2, figsize=(20, 10))\n",
        "index = 0\n",
        "axs = axs.flatten()\n",
        "for k,v in df.items():\n",
        "    sns.boxplot(y=k, data=df, ax=axs[index])\n",
        "    index += 1\n",
        "plt.tight_layout(pad=0.4, w_pad=0.5, h_pad=5.0)"
      ],
      "execution_count": null,
      "outputs": [
        {
          "output_type": "display_data",
          "data": {
            "image/png": "[encoded data removed]",
            "text/plain": [
              "<Figure size 1440x720 with 4 Axes>"
            ]
          },
          "metadata": {
            "tags": [],
            "needs_background": "light"
          }
        }
      ]
    },
    {
      "cell_type": "markdown",
      "metadata": {
        "id": "mCRa3lIJi507"
      },
      "source": [
        "From the Box plot we can see that both the house age and number of convenience stores look as if they are not having issues with outliers.\n",
        "\n",
        "Distance from the nearest MRT station and price of unit area (Y) seem to be both containing a couple of outliers.\n",
        "\n",
        "For a housing prediction it is expected that some houses will sell above the market price, so at this point we will not remove the outliers in the dependent variable (Y).\n",
        "\n",
        "But before we continue, let us check the **distribution** of each feature. As you can remember, linear regression assumes a **normal distribution** for each feature."
      ]
    },
    {
      "cell_type": "code",
      "metadata": {
        "id": "qdKYib-14ma3",
        "colab": {
          "base_uri": "https://localhost:8080/",
          "height": 594
        },
        "outputId": "e711fabb-3376-417b-c5df-13dbd69a5905"
      },
      "source": [
        "fig, axs = plt.subplots(ncols=2, nrows=2, figsize=(20, 10))\n",
        "index = 0\n",
        "axs = axs.flatten()\n",
        "for k,v in df.items():\n",
        "    sns.distplot(v, ax=axs[index])\n",
        "    index += 1\n",
        "plt.tight_layout(pad=0.4, w_pad=0.5, h_pad=5.0)"
      ],
      "execution_count": null,
      "outputs": [
        {
          "output_type": "display_data",
          "data": {
            "image/png": "[encoded data removed]",
            "text/plain": [
              "<Figure size 1440x720 with 4 Axes>"
            ]
          },
          "metadata": {
            "tags": [],
            "needs_background": "light"
          }
        }
      ]
    },
    {
      "cell_type": "markdown",
      "metadata": {
        "id": "iidMWM99jywg"
      },
      "source": [
        "It seems data distribution is slightly problematic. X3 suffers from skewness and a long-tail. X2 seems to be bimodal instead of normal-shaped. The target variable Y, on the other hand, seems to be nicely normally shaped.\n",
        "\n",
        "For the time being we will just note these potential issues, and continue, with the note-to-ourselves to revisit these distributions in case we need to improve the linear regression model."
      ]
    },
    {
      "cell_type": "markdown",
      "metadata": {
        "id": "08qt-PVz5o0a"
      },
      "source": [
        "## STEP 3: Train and evaluate linear regression model\n",
        "\n",
        "Start by splitting the data into a training set (for model fitting) and a testing set (for model evaluation)."
      ]
    },
    {
      "cell_type": "code",
      "metadata": {
        "id": "U0_DdFalkx6V"
      },
      "source": [
        "from sklearn.model_selection import train_test_split\n",
        "\n",
        "# separate the features (X) from the target (Y)\n",
        "Y = df['Y house price of unit area']\n",
        "X = df[['X2 house age',\n",
        "        'X3 distance to the nearest MRT station',\n",
        "        'X4 number of convenience stores']]\n",
        "\n",
        "# divide the data into a training set (for learning) and test set (for validation)\n",
        "x_train, x_test, y_train, y_test = train_test_split(X, Y, test_size=0.2, random_state=42)"
      ],
      "execution_count": null,
      "outputs": []
    },
    {
      "cell_type": "markdown",
      "metadata": {
        "id": "QBjjYKEXnuNX"
      },
      "source": [
        "Train the linear regression model."
      ]
    },
    {
      "cell_type": "code",
      "metadata": {
        "id": "hXuGQVZ1lNk5"
      },
      "source": [
        "from sklearn.linear_model import LinearRegression\n",
        "\n",
        "reg_model = LinearRegression()\n",
        "trained_model = reg_model.fit(x_train, y_train)"
      ],
      "execution_count": null,
      "outputs": []
    },
    {
      "cell_type": "markdown",
      "metadata": {
        "id": "RXJwTlHQoFyw"
      },
      "source": [
        "Use the model to predict new data and evaluate its performance."
      ]
    },
    {
      "cell_type": "code",
      "metadata": {
        "id": "Wx7zzkEDn5qj"
      },
      "source": [
        "# make predictions\n",
        "y_predicted = trained_model.predict(x_test)\n",
        "\n",
        "# rename y_test into y_true for clarity\n",
        "y_true = y_test"
      ],
      "execution_count": null,
      "outputs": []
    },
    {
      "cell_type": "code",
      "metadata": {
        "id": "UkU4Kei_oUdC",
        "colab": {
          "base_uri": "https://localhost:8080/",
          "height": 85
        },
        "outputId": "ec3281c3-8a55-43b3-e9f9-71d7d93dceb7"
      },
      "source": [
        "from sklearn.metrics import mean_squared_error\n",
        "\n",
        "# get evaluation metrics\n",
        "mse = round(mean_squared_error(y_true, y_predicted), 2)\n",
        "rmse = round(mean_squared_error(y_true, y_predicted, squared=False), 2)\n",
        "r2 = round(trained_model.score(x_test, y_test), 2)\n",
        "\n",
        "# evaluate performance\n",
        "print(\"Model performance:\\nMSE: {}\\nRMSE: {}\\nR2 score: {}\".format(mse, rmse, r2))"
      ],
      "execution_count": null,
      "outputs": [
        {
          "output_type": "stream",
          "text": [
            "Model performance:\n",
            "MSE: 58.58\n",
            "RMSE: 7.65\n",
            "R2 score: 0.65\n"
          ],
          "name": "stdout"
        }
      ]
    },
    {
      "cell_type": "markdown",
      "metadata": {
        "id": "26cCjGdqp0Af"
      },
      "source": [
        "**Interpretation**: </br>\n",
        "The model captures some variance in the target variable (R2 score 65%), but could be massively improved.\n",
        "\n",
        "# Your turn\n",
        "Improve the model, to perform better than the baseline above.\n",
        "\n",
        "A couple of things you can explore:\n",
        "1. Does the model performance improve once we remove outliers?\n",
        "2. How does feature normalization affect model performance?\n",
        "3. Add other features (e.g. use longitude and latitude to determine in which area the house is located, bin distance to nearest MRT station to check if there is a signal in the further place, ...). How do new features affect performance?"
      ]
    }
  ]
}